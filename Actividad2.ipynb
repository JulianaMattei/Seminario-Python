{
 "cells": [
  {
   "cell_type": "markdown",
   "id": "bbbd1cf9",
   "metadata": {},
   "source": [
    "Abro los archivos."
   ]
  },
  {
   "cell_type": "code",
   "execution_count": null,
   "id": "ea2dd6ec",
   "metadata": {},
   "outputs": [],
   "source": [
    "nombres_arch = open('nombres_1.txt','r', encoding=\"utf-8\")\n",
    "eval1_arch = open('eval1.txt', 'r')\n",
    "eval2_arch = open('eval2.txt', 'r')"
   ]
  },
  {
   "cell_type": "markdown",
   "id": "3b542481",
   "metadata": {},
   "source": [
    "Creo listas individuales con el contenido de los archivos usando strip para eliminar comillas, comas y saltos de linea."
   ]
  },
  {
   "cell_type": "code",
   "execution_count": null,
   "id": "bd7b2769",
   "metadata": {},
   "outputs": [],
   "source": [
    "nombres = [linea.strip('\\', \\n \\'') for linea in nombres_arch]\n",
    "notas1 = [int(linea.strip(', \\n ')) for linea in eval1_arch]\n",
    "notas2 = [int(linea.strip(', \\n ')) for linea in eval2_arch]"
   ]
  },
  {
   "cell_type": "markdown",
   "id": "0ad84aec",
   "metadata": {},
   "source": [
    "Cierro los archivos como buena práctica."
   ]
  },
  {
   "cell_type": "code",
   "execution_count": null,
   "id": "52925bb7",
   "metadata": {},
   "outputs": [],
   "source": [
    "nombres_arch.close()\n",
    "eval1_arch.close()\n",
    "eval2_arch.close()"
   ]
  },
  {
   "cell_type": "markdown",
   "id": "542b633c",
   "metadata": {},
   "source": [
    "Creo una lista para almacenar las notas totales (la suma de las dos dadas por el archivo)."
   ]
  },
  {
   "cell_type": "code",
   "execution_count": null,
   "id": "2a2f51eb",
   "metadata": {},
   "outputs": [],
   "source": [
    "notas = []\n",
    "for i, w in enumerate(notas1):\n",
    "\tnotas.append(notas1[i] + notas2[i])"
   ]
  },
  {
   "cell_type": "markdown",
   "id": "1ffd1ded",
   "metadata": {},
   "source": [
    "Creo una lista de tuplas que almacenan los nombres de cada alumno con su correspondiente nota."
   ]
  },
  {
   "cell_type": "code",
   "execution_count": null,
   "id": "b6fb7bea",
   "metadata": {},
   "outputs": [],
   "source": [
    "alumnos_todos = list(zip(nombres, notas))"
   ]
  },
  {
   "cell_type": "markdown",
   "id": "381edecd",
   "metadata": {},
   "source": [
    "Obtengo el promedio de las notas."
   ]
  },
  {
   "cell_type": "code",
   "execution_count": null,
   "id": "5d434289",
   "metadata": {},
   "outputs": [],
   "source": [
    "promedio = round(sum(notas)/len(notas), 2)"
   ]
  },
  {
   "cell_type": "markdown",
   "id": "5f581825",
   "metadata": {},
   "source": [
    "Con un filter y una función lambda que compara la nota de cada alumno con el promedio obtengo una lista de tuplas con los alumnos con nota menor al promedio."
   ]
  },
  {
   "cell_type": "code",
   "execution_count": null,
   "id": "07b20796",
   "metadata": {},
   "outputs": [],
   "source": [
    "alumnos_bajo_promedio = list(filter(lambda elem: elem[1] < promedio, alumnos_todos))"
   ]
  },
  {
   "cell_type": "markdown",
   "id": "51f904a6",
   "metadata": {},
   "source": [
    "Finalmente imprimo los nombres de los alumnos con nota menor al promedio."
   ]
  },
  {
   "cell_type": "code",
   "execution_count": null,
   "id": "40b2c9ac",
   "metadata": {},
   "outputs": [],
   "source": [
    "print(f\"Alumnos con nota menor al promedio ({promedio}):\")\n",
    "for i, nombre in enumerate(alumnos_bajo_promedio):\n",
    "\tprint(alumnos_bajo_promedio[i][0])"
   ]
  }
 ],
 "metadata": {
  "kernelspec": {
   "display_name": "Python 3 (ipykernel)",
   "language": "python",
   "name": "python3"
  },
  "language_info": {
   "codemirror_mode": {
    "name": "ipython",
    "version": 3
   },
   "file_extension": ".py",
   "mimetype": "text/x-python",
   "name": "python",
   "nbconvert_exporter": "python",
   "pygments_lexer": "ipython3",
   "version": "3.10.2"
  }
 },
 "nbformat": 4,
 "nbformat_minor": 5
}
